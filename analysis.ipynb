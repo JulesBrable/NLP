{
 "cells": [
  {
   "cell_type": "code",
   "execution_count": 1,
   "metadata": {},
   "outputs": [],
   "source": [
    "import pandas as pd\n",
    "import numpy as np\n",
    "import os\n",
    "import json\n",
    "import yaml\n",
    "import matplotlib.pyplot as plt\n",
    "from sklearn.model_selection import train_test_split\n",
    "from sklearn.metrics import classification_report\n",
    "import torch\n",
    "from transformers import BertTokenizer, BertForSequenceClassification\n",
    "\n",
    "from src.preprocessing import clean_data, get_features, get_dataloader\n",
    "from src.training import train_and_evaluate\n",
    "from src.evaluation import plot_losses, plot_confusion_matrix"
   ]
  },
  {
   "cell_type": "code",
   "execution_count": 37,
   "metadata": {},
   "outputs": [
    {
     "data": {
      "text/plain": [
       "device(type='cuda')"
      ]
     },
     "execution_count": 37,
     "metadata": {},
     "output_type": "execute_result"
    }
   ],
   "source": [
    "device = torch.device(\"cuda\" if torch.cuda.is_available() else \"cpu\")\n",
    "device"
   ]
  },
  {
   "cell_type": "code",
   "execution_count": 38,
   "metadata": {},
   "outputs": [],
   "source": [
    "epochs = 5\n",
    "batch_size = 32\n",
    "model_name = 'bert-base-uncased'\n",
    "lr = 2e-5\n",
    "\n",
    "seed = 42\n",
    "torch.manual_seed(seed)\n",
    "torch.cuda.manual_seed(seed)"
   ]
  },
  {
   "cell_type": "code",
   "execution_count": 4,
   "metadata": {},
   "outputs": [
    {
     "data": {
      "text/plain": [
       "['tokens.yml',\n",
       " 'firstname_with_sex.csv',\n",
       " 'entities.json',\n",
       " 'transcriptions_with_sex.csv']"
      ]
     },
     "execution_count": 4,
     "metadata": {},
     "output_type": "execute_result"
    }
   ],
   "source": [
    "os.listdir(\"data\")"
   ]
  },
  {
   "cell_type": "code",
   "execution_count": 5,
   "metadata": {},
   "outputs": [],
   "source": [
    "with open(\"data/tokens.yml\") as f:\n",
    "    raw_tokens = yaml.safe_load(f)\n",
    "\n",
    "with open(\"data/entities.json\") as f:\n",
    "    raw_data = json.load(f)"
   ]
  },
  {
   "cell_type": "code",
   "execution_count": 6,
   "metadata": {},
   "outputs": [
    {
     "data": {
      "text/plain": [
       "{'age': 'Ⓐ',\n",
       " 'birth_date': 'Ⓑ',\n",
       " 'civil_status': 'Ⓒ',\n",
       " 'education_level': 'Ⓓ',\n",
       " 'employer': 'Ⓔ',\n",
       " 'firstname': 'Ⓕ',\n",
       " 'link': 'Ⓗ',\n",
       " 'lob': 'Ⓘ',\n",
       " 'maiden_name': 'Ⓙ',\n",
       " 'nationality': 'Ⓚ',\n",
       " 'observation': 'Ⓛ',\n",
       " 'occupation': 'Ⓜ',\n",
       " 'surname': 'Ⓞ',\n",
       " 'surname_household': 'Ⓟ'}"
      ]
     },
     "execution_count": 6,
     "metadata": {},
     "output_type": "execute_result"
    }
   ],
   "source": [
    "tokens = {key: value['start'] for key, value in raw_tokens.items()}\n",
    "tokens"
   ]
  },
  {
   "cell_type": "code",
   "execution_count": 7,
   "metadata": {},
   "outputs": [],
   "source": [
    "data = clean_data(raw_data, tokens)"
   ]
  },
  {
   "cell_type": "code",
   "execution_count": 8,
   "metadata": {},
   "outputs": [
    {
     "data": {
      "text/html": [
       "<div>\n",
       "<style scoped>\n",
       "    .dataframe tbody tr th:only-of-type {\n",
       "        vertical-align: middle;\n",
       "    }\n",
       "\n",
       "    .dataframe tbody tr th {\n",
       "        vertical-align: top;\n",
       "    }\n",
       "\n",
       "    .dataframe thead th {\n",
       "        text-align: right;\n",
       "    }\n",
       "</style>\n",
       "<table border=\"1\" class=\"dataframe\">\n",
       "  <thead>\n",
       "    <tr style=\"text-align: right;\">\n",
       "      <th></th>\n",
       "      <th>age</th>\n",
       "      <th>birth_date</th>\n",
       "      <th>civil_status</th>\n",
       "      <th>education_level</th>\n",
       "      <th>employer</th>\n",
       "      <th>firstname</th>\n",
       "      <th>link</th>\n",
       "      <th>lob</th>\n",
       "      <th>maiden_name</th>\n",
       "      <th>nationality</th>\n",
       "      <th>observation</th>\n",
       "      <th>occupation</th>\n",
       "      <th>surname</th>\n",
       "      <th>surname_household</th>\n",
       "    </tr>\n",
       "  </thead>\n",
       "  <tbody>\n",
       "    <tr>\n",
       "      <th>0</th>\n",
       "      <td>25</td>\n",
       "      <td>NaN</td>\n",
       "      <td>Garçon</td>\n",
       "      <td>NaN</td>\n",
       "      <td>NaN</td>\n",
       "      <td>Cyrille</td>\n",
       "      <td>NaN</td>\n",
       "      <td>NaN</td>\n",
       "      <td>NaN</td>\n",
       "      <td>française</td>\n",
       "      <td>NaN</td>\n",
       "      <td>menuisier</td>\n",
       "      <td>Breton</td>\n",
       "      <td>NaN</td>\n",
       "    </tr>\n",
       "    <tr>\n",
       "      <th>1</th>\n",
       "      <td>30</td>\n",
       "      <td>NaN</td>\n",
       "      <td>Garçon</td>\n",
       "      <td>NaN</td>\n",
       "      <td>NaN</td>\n",
       "      <td>Auguste</td>\n",
       "      <td>NaN</td>\n",
       "      <td>NaN</td>\n",
       "      <td>NaN</td>\n",
       "      <td>Piémontaise</td>\n",
       "      <td>NaN</td>\n",
       "      <td>vitrier</td>\n",
       "      <td>NaN</td>\n",
       "      <td>Ferazzi</td>\n",
       "    </tr>\n",
       "    <tr>\n",
       "      <th>2</th>\n",
       "      <td>24</td>\n",
       "      <td>NaN</td>\n",
       "      <td>Garçon</td>\n",
       "      <td>NaN</td>\n",
       "      <td>NaN</td>\n",
       "      <td>Pierre</td>\n",
       "      <td>NaN</td>\n",
       "      <td>NaN</td>\n",
       "      <td>NaN</td>\n",
       "      <td>Piémontaise</td>\n",
       "      <td>NaN</td>\n",
       "      <td>vitrier</td>\n",
       "      <td>NaN</td>\n",
       "      <td>Machol</td>\n",
       "    </tr>\n",
       "    <tr>\n",
       "      <th>3</th>\n",
       "      <td>48</td>\n",
       "      <td>NaN</td>\n",
       "      <td>Homme</td>\n",
       "      <td>NaN</td>\n",
       "      <td>NaN</td>\n",
       "      <td>Alexandre</td>\n",
       "      <td>NaN</td>\n",
       "      <td>NaN</td>\n",
       "      <td>NaN</td>\n",
       "      <td>française</td>\n",
       "      <td>NaN</td>\n",
       "      <td>prop</td>\n",
       "      <td>NaN</td>\n",
       "      <td>Desbois</td>\n",
       "    </tr>\n",
       "    <tr>\n",
       "      <th>4</th>\n",
       "      <td>30</td>\n",
       "      <td>NaN</td>\n",
       "      <td>NaN</td>\n",
       "      <td>NaN</td>\n",
       "      <td>NaN</td>\n",
       "      <td>Zélie</td>\n",
       "      <td>sa</td>\n",
       "      <td>NaN</td>\n",
       "      <td>NaN</td>\n",
       "      <td>française</td>\n",
       "      <td>NaN</td>\n",
       "      <td>prop</td>\n",
       "      <td>Vignat</td>\n",
       "      <td>NaN</td>\n",
       "    </tr>\n",
       "    <tr>\n",
       "      <th>...</th>\n",
       "      <td>...</td>\n",
       "      <td>...</td>\n",
       "      <td>...</td>\n",
       "      <td>...</td>\n",
       "      <td>...</td>\n",
       "      <td>...</td>\n",
       "      <td>...</td>\n",
       "      <td>...</td>\n",
       "      <td>...</td>\n",
       "      <td>...</td>\n",
       "      <td>...</td>\n",
       "      <td>...</td>\n",
       "      <td>...</td>\n",
       "      <td>...</td>\n",
       "    </tr>\n",
       "    <tr>\n",
       "      <th>25443</th>\n",
       "      <td>NaN</td>\n",
       "      <td>1887</td>\n",
       "      <td>NaN</td>\n",
       "      <td>NaN</td>\n",
       "      <td>NaN</td>\n",
       "      <td>Annunziata</td>\n",
       "      <td>épouse</td>\n",
       "      <td>idem</td>\n",
       "      <td>NaN</td>\n",
       "      <td>idem</td>\n",
       "      <td>NaN</td>\n",
       "      <td>NaN</td>\n",
       "      <td>Berni-Laureti</td>\n",
       "      <td>NaN</td>\n",
       "    </tr>\n",
       "    <tr>\n",
       "      <th>25444</th>\n",
       "      <td>NaN</td>\n",
       "      <td>1914</td>\n",
       "      <td>NaN</td>\n",
       "      <td>NaN</td>\n",
       "      <td>NaN</td>\n",
       "      <td>Primo</td>\n",
       "      <td>fils</td>\n",
       "      <td>idem</td>\n",
       "      <td>NaN</td>\n",
       "      <td>idem</td>\n",
       "      <td>NaN</td>\n",
       "      <td>NaN</td>\n",
       "      <td>Berni</td>\n",
       "      <td>NaN</td>\n",
       "    </tr>\n",
       "    <tr>\n",
       "      <th>25445</th>\n",
       "      <td>NaN</td>\n",
       "      <td>NaN</td>\n",
       "      <td>NaN</td>\n",
       "      <td>NaN</td>\n",
       "      <td>NaN</td>\n",
       "      <td>NaN</td>\n",
       "      <td>NaN</td>\n",
       "      <td>NaN</td>\n",
       "      <td>NaN</td>\n",
       "      <td>NaN</td>\n",
       "      <td>NaN</td>\n",
       "      <td>NaN</td>\n",
       "      <td>NaN</td>\n",
       "      <td>NaN</td>\n",
       "    </tr>\n",
       "    <tr>\n",
       "      <th>25446</th>\n",
       "      <td>NaN</td>\n",
       "      <td>NaN</td>\n",
       "      <td>NaN</td>\n",
       "      <td>NaN</td>\n",
       "      <td>NaN</td>\n",
       "      <td>NaN</td>\n",
       "      <td>NaN</td>\n",
       "      <td>NaN</td>\n",
       "      <td>NaN</td>\n",
       "      <td>NaN</td>\n",
       "      <td>NaN</td>\n",
       "      <td>NaN</td>\n",
       "      <td>NaN</td>\n",
       "      <td>NaN</td>\n",
       "    </tr>\n",
       "    <tr>\n",
       "      <th>25447</th>\n",
       "      <td>NaN</td>\n",
       "      <td>NaN</td>\n",
       "      <td>NaN</td>\n",
       "      <td>NaN</td>\n",
       "      <td>NaN</td>\n",
       "      <td>NaN</td>\n",
       "      <td>NaN</td>\n",
       "      <td>NaN</td>\n",
       "      <td>NaN</td>\n",
       "      <td>NaN</td>\n",
       "      <td>NaN</td>\n",
       "      <td>NaN</td>\n",
       "      <td>NaN</td>\n",
       "      <td>NaN</td>\n",
       "    </tr>\n",
       "  </tbody>\n",
       "</table>\n",
       "<p>25448 rows × 14 columns</p>\n",
       "</div>"
      ],
      "text/plain": [
       "       age birth_date civil_status  education_level employer   firstname  \\\n",
       "0       25        NaN       Garçon              NaN      NaN     Cyrille   \n",
       "1       30        NaN       Garçon              NaN      NaN     Auguste   \n",
       "2       24        NaN       Garçon              NaN      NaN      Pierre   \n",
       "3       48        NaN        Homme              NaN      NaN   Alexandre   \n",
       "4       30        NaN          NaN              NaN      NaN       Zélie   \n",
       "...    ...        ...          ...              ...      ...         ...   \n",
       "25443  NaN       1887          NaN              NaN      NaN  Annunziata   \n",
       "25444  NaN       1914          NaN              NaN      NaN       Primo   \n",
       "25445  NaN        NaN          NaN              NaN      NaN         NaN   \n",
       "25446  NaN        NaN          NaN              NaN      NaN         NaN   \n",
       "25447  NaN        NaN          NaN              NaN      NaN         NaN   \n",
       "\n",
       "         link   lob  maiden_name  nationality observation occupation  \\\n",
       "0         NaN   NaN          NaN    française         NaN  menuisier   \n",
       "1         NaN   NaN          NaN  Piémontaise         NaN    vitrier   \n",
       "2         NaN   NaN          NaN  Piémontaise         NaN    vitrier   \n",
       "3         NaN   NaN          NaN    française         NaN       prop   \n",
       "4          sa   NaN          NaN    française         NaN       prop   \n",
       "...       ...   ...          ...          ...         ...        ...   \n",
       "25443  épouse  idem          NaN         idem         NaN        NaN   \n",
       "25444    fils  idem          NaN         idem         NaN        NaN   \n",
       "25445     NaN   NaN          NaN          NaN         NaN        NaN   \n",
       "25446     NaN   NaN          NaN          NaN         NaN        NaN   \n",
       "25447     NaN   NaN          NaN          NaN         NaN        NaN   \n",
       "\n",
       "             surname surname_household  \n",
       "0             Breton               NaN  \n",
       "1                NaN           Ferazzi  \n",
       "2                NaN            Machol  \n",
       "3                NaN           Desbois  \n",
       "4             Vignat               NaN  \n",
       "...              ...               ...  \n",
       "25443  Berni-Laureti               NaN  \n",
       "25444          Berni               NaN  \n",
       "25445            NaN               NaN  \n",
       "25446            NaN               NaN  \n",
       "25447            NaN               NaN  \n",
       "\n",
       "[25448 rows x 14 columns]"
      ]
     },
     "execution_count": 8,
     "metadata": {},
     "output_type": "execute_result"
    }
   ],
   "source": [
    "data"
   ]
  },
  {
   "cell_type": "code",
   "execution_count": 9,
   "metadata": {},
   "outputs": [
    {
     "data": {
      "text/plain": [
       "(array(['25 Garçon Cyrille française menuisier Breton',\n",
       "        '30 Garçon Auguste Piémontaise vitrier',\n",
       "        '24 Garçon Pierre Piémontaise vitrier', ..., '', '', ''],\n",
       "       dtype='<U79'),\n",
       " (25448,),\n",
       " (25448,))"
      ]
     },
     "execution_count": 9,
     "metadata": {},
     "output_type": "execute_result"
    }
   ],
   "source": [
    "X, y = get_features(data)\n",
    "X, X.shape, y.shape"
   ]
  },
  {
   "cell_type": "code",
   "execution_count": 10,
   "metadata": {},
   "outputs": [],
   "source": [
    "X_train, X_val, y_train, y_val = train_test_split(X, y, test_size=.2, stratify=y, random_state=seed)"
   ]
  },
  {
   "cell_type": "code",
   "execution_count": 12,
   "metadata": {},
   "outputs": [],
   "source": [
    "tokenizer = BertTokenizer.from_pretrained(model_name)"
   ]
  },
  {
   "cell_type": "code",
   "execution_count": 13,
   "metadata": {},
   "outputs": [],
   "source": [
    "train_dataloader = get_dataloader(X_train, y_train, tokenizer, batch_size=batch_size)\n",
    "val_dataloader = get_dataloader(X_val, y_val, tokenizer, batch_size=batch_size)"
   ]
  },
  {
   "cell_type": "code",
   "execution_count": 14,
   "metadata": {},
   "outputs": [
    {
     "name": "stderr",
     "output_type": "stream",
     "text": [
      "Some weights of BertForSequenceClassification were not initialized from the model checkpoint at bert-base-uncased and are newly initialized: ['classifier.bias', 'classifier.weight']\n",
      "You should probably TRAIN this model on a down-stream task to be able to use it for predictions and inference.\n"
     ]
    },
    {
     "name": "stdout",
     "output_type": "stream",
     "text": [
      "Number of parameters to be learned: 109483778\n"
     ]
    }
   ],
   "source": [
    "model = BertForSequenceClassification.from_pretrained(model_name, num_labels=len(np.unique(y_train)))\n",
    "model.to(device)\n",
    "optimizer = torch.optim.AdamW(model.parameters(), lr=lr)\n",
    "n_params = sum(p.numel() for p in model.parameters() if p.requires_grad)\n",
    "print(f\"Number of parameters to be learned: {n_params}\")"
   ]
  },
  {
   "cell_type": "code",
   "execution_count": 15,
   "metadata": {},
   "outputs": [
    {
     "name": "stdout",
     "output_type": "stream",
     "text": [
      "======== Epoch 1 / 5 ========\n"
     ]
    },
    {
     "name": "stderr",
     "output_type": "stream",
     "text": [
      "100%|██████████| 637/637 [01:53<00:00,  5.60it/s]\n"
     ]
    },
    {
     "name": "stdout",
     "output_type": "stream",
     "text": [
      "  Average training loss: 0.12\n",
      "Validation Loss: 0.05\n",
      "Validation Accuracy: 0.99\n",
      "======== Epoch 2 / 5 ========\n"
     ]
    },
    {
     "name": "stderr",
     "output_type": "stream",
     "text": [
      "100%|██████████| 637/637 [01:52<00:00,  5.67it/s]\n"
     ]
    },
    {
     "name": "stdout",
     "output_type": "stream",
     "text": [
      "  Average training loss: 0.04\n",
      "Validation Loss: 0.06\n",
      "Validation Accuracy: 0.99\n",
      "======== Epoch 3 / 5 ========\n"
     ]
    },
    {
     "name": "stderr",
     "output_type": "stream",
     "text": [
      "100%|██████████| 637/637 [01:49<00:00,  5.79it/s]\n"
     ]
    },
    {
     "name": "stdout",
     "output_type": "stream",
     "text": [
      "  Average training loss: 0.03\n",
      "Validation Loss: 0.08\n",
      "Validation Accuracy: 0.99\n",
      "======== Epoch 4 / 5 ========\n"
     ]
    },
    {
     "name": "stderr",
     "output_type": "stream",
     "text": [
      "100%|██████████| 637/637 [01:49<00:00,  5.81it/s]\n"
     ]
    },
    {
     "name": "stdout",
     "output_type": "stream",
     "text": [
      "  Average training loss: 0.02\n",
      "Validation Loss: 0.05\n",
      "Validation Accuracy: 0.99\n",
      "======== Epoch 5 / 5 ========\n"
     ]
    },
    {
     "name": "stderr",
     "output_type": "stream",
     "text": [
      "100%|██████████| 637/637 [01:49<00:00,  5.81it/s]\n"
     ]
    },
    {
     "name": "stdout",
     "output_type": "stream",
     "text": [
      "  Average training loss: 0.01\n",
      "Validation Loss: 0.05\n",
      "Validation Accuracy: 0.99\n",
      "Training time (seconds): 593.21\n"
     ]
    }
   ],
   "source": [
    "train_losses, val_losses, val_accuracies = train_and_evaluate(model, train_dataloader, val_dataloader, optimizer, device, epochs)"
   ]
  },
  {
   "cell_type": "code",
   "execution_count": 34,
   "metadata": {},
   "outputs": [
    {
     "data": {
      "image/png": "[encoded data removed]",
      "text/plain": [
       "<Figure size 1000x500 with 1 Axes>"
      ]
     },
     "metadata": {},
     "output_type": "display_data"
    }
   ],
   "source": [
    "plot_losses(train_losses, val_losses)"
   ]
  },
  {
   "cell_type": "code",
   "execution_count": 36,
   "metadata": {},
   "outputs": [
    {
     "data": {
      "image/png": "[encoded data removed]",
      "text/plain": [
       "<Figure size 800x600 with 2 Axes>"
      ]
     },
     "metadata": {},
     "output_type": "display_data"
    }
   ],
   "source": [
    "true_labels, predictions = predict(model, val_dataloader, device)\n",
    "plot_confusion_matrix(true_labels, predictions)"
   ]
  },
  {
   "cell_type": "code",
   "execution_count": 30,
   "metadata": {},
   "outputs": [
    {
     "name": "stdout",
     "output_type": "stream",
     "text": [
      "              precision    recall  f1-score   support\n",
      "\n",
      "           0       0.99      1.00      0.99      3962\n",
      "           1       0.98      0.97      0.98      1128\n",
      "\n",
      "    accuracy                           0.99      5090\n",
      "   macro avg       0.99      0.98      0.99      5090\n",
      "weighted avg       0.99      0.99      0.99      5090\n",
      "\n"
     ]
    }
   ],
   "source": [
    "print(classification_report(true_labels, predictions))"
   ]
  },
  {
   "cell_type": "code",
   "execution_count": 31,
   "metadata": {},
   "outputs": [],
   "source": [
    "# comparer egalement avec camembert et flaubert + benchmarker les temps d'inférence"
   ]
  },
  {
   "cell_type": "code",
   "execution_count": null,
   "metadata": {},
   "outputs": [],
   "source": []
  }
 ],
 "metadata": {
  "kernelspec": {
   "display_name": "tf_gpu",
   "language": "python",
   "name": "python3"
  },
  "language_info": {
   "codemirror_mode": {
    "name": "ipython",
    "version": 3
   },
   "file_extension": ".py",
   "mimetype": "text/x-python",
   "name": "python",
   "nbconvert_exporter": "python",
   "pygments_lexer": "ipython3",
   "version": "3.11.6"
  }
 },
 "nbformat": 4,
 "nbformat_minor": 2
}
